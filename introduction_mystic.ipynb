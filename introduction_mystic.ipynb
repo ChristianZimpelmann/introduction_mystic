{
 "cells": [
  {
   "cell_type": "markdown",
   "metadata": {},
   "source": [
    "# Introduction to mystic"
   ]
  },
  {
   "cell_type": "markdown",
   "metadata": {},
   "source": [
    "## Introduction\n",
    "- The mystic framework provides a collection of optimization algorithms and tools that allows the user to more robustly (and easily) solve hard optimization problems.\n",
    "\n",
    "- It supports both i) derivative-free optimization and ii) constraints (This combination is not available in scipy).\n",
    "\n",
    "- The mystic optimizers can be monitored and fine-tuned during the optimization process."
   ]
  },
  {
   "cell_type": "markdown",
   "metadata": {},
   "source": [
    "## This Talk\n",
    "\n",
    "1. Introduction\n",
    "2. Basic usage (minimal interface)\n",
    "2. Basic usage (standard interface)\n",
    "3. Constraints and Penalties\n",
    "4. Stepmonitor\n",
    "5. Available Solvers\n",
    "6. My project\n"
   ]
  },
  {
   "cell_type": "markdown",
   "metadata": {},
   "source": [
    "## Sources\n",
    "\n",
    "- https://github.com/uqfoundation/mystic\n",
    "- https://mystic.readthedocs.io/en/latest/index.html\n"
   ]
  },
  {
   "cell_type": "code",
   "execution_count": 1,
   "metadata": {},
   "outputs": [],
   "source": [
    "import mystic\n",
    "from mystic.models import rosen\n",
    "\n",
    "import matplotlib.pyplot as plt\n",
    "import numpy as np"
   ]
  },
  {
   "cell_type": "markdown",
   "metadata": {},
   "source": [
    "### Basic usage (minimal interface)\n",
    "- fmin (Nelder-Mead), fmin_powell\n",
    "- scipy-interface\n",
    "- Additional specifications as parameters of function call"
   ]
  },
  {
   "cell_type": "code",
   "execution_count": 2,
   "metadata": {},
   "outputs": [
    {
     "name": "stdout",
     "output_type": "stream",
     "text": [
      "Optimization terminated successfully.\n",
      "         Current function value: 0.000000\n",
      "         Iterations: 120\n",
      "         Function evaluations: 215\n",
      "[1.00000328 1.00000565 1.00001091]\n"
     ]
    }
   ],
   "source": [
    "# initial guess\n",
    "x0 = [0.8, 1.2, 0.7]\n",
    "\n",
    "# use Nelder-Mead to minimize the Rosenbrock function\n",
    "solution = mystic.solvers.fmin(mystic.models.rosen, x0)\n",
    "print(solution)"
   ]
  },
  {
   "cell_type": "code",
   "execution_count": 3,
   "metadata": {},
   "outputs": [
    {
     "name": "stdout",
     "output_type": "stream",
     "text": [
      "[0.9388042  0.88149842 0.77720609]\n"
     ]
    }
   ],
   "source": [
    "solution = mystic.solvers.fmin(mystic.models.rosen, x0, disp=False ,maxiter=50)\n",
    "print(solution)\n"
   ]
  },
  {
   "cell_type": "markdown",
   "metadata": {},
   "source": [
    "### Basic usage (standard interface)\n",
    "- object-oriented\n",
    "- more flexibility"
   ]
  },
  {
   "cell_type": "code",
   "execution_count": 5,
   "metadata": {},
   "outputs": [
    {
     "name": "stdout",
     "output_type": "stream",
     "text": [
      "Optimization terminated successfully.\n",
      "         Current function value: 0.000000\n",
      "         Iterations: 120\n",
      "         Function evaluations: 215\n",
      "[1.00000328 1.00000565 1.00001091] 1.400759544790854e-10\n"
     ]
    }
   ],
   "source": [
    "# Initial guess\n",
    "x0 = [0.8, 1.2, 0.7]\n",
    "\n",
    "solver = mystic.solvers.NelderMeadSimplexSolver(len(x0))\n",
    "solver.SetInitialPoints(x0)\n",
    "solver.Solve(rosen, disp=True)\n",
    "\n",
    "print(solver.bestSolution, solver.bestEnergy)"
   ]
  },
  {
   "cell_type": "code",
   "execution_count": 6,
   "metadata": {},
   "outputs": [
    {
     "name": "stdout",
     "output_type": "stream",
     "text": [
      "Optimization terminated successfully.\n",
      "         Current function value: 3.987461\n",
      "         Iterations: 113\n",
      "         Function evaluations: 181\n",
      "[-0.99367743  0.99746997  1.00000019] 3.987461065848986\n"
     ]
    }
   ],
   "source": [
    "from mystic.termination import CandidateRelativeTolerance as CRT\n",
    "    \n",
    "# Initial guess\n",
    "x0 = [0.8, 1.2, 0.7]\n",
    "\n",
    "# Bounds\n",
    "lower_bound = [-100, -100, 1]       \n",
    "upper_bound = [200, 100, np.inf]\n",
    "\n",
    "solver = mystic.solvers.NelderMeadSimplexSolver(len(x0))\n",
    "solver.SetInitialPoints(x0)\n",
    "solver.SetStrictRanges(lower_bound, upper_bound)\n",
    "solver.Solve(rosen, CRT(xtol=4e-5), disp=1)\n",
    "print(solver.bestSolution, solver.bestEnergy)"
   ]
  },
  {
   "cell_type": "markdown",
   "metadata": {},
   "source": [
    "### Constraints and Penalties\n",
    "\n",
    "Two options to implement restrictions:\n",
    "1. Constraints: \n",
    "    - “constrain” the solver to only searchin  regions of  solution  space  where the  constraints  are respected\n",
    "    - xk’ = constraints(xk), where xk is the current parameter vector\n",
    "2. Penalties:  \n",
    "    - “penalize” regions of solution space that violate the constraint\n",
    "    - y’ = penalty(xk), with y' = 0 if all constraints are satisfied"
   ]
  },
  {
   "cell_type": "code",
   "execution_count": 7,
   "metadata": {},
   "outputs": [],
   "source": [
    "# Suppose we want to make sure that x1 + x2 + x3 = 3\n",
    "def constraint(x):\n",
    "    x[2] = 3 - x[0] - x[1]\n",
    "    return x\n",
    "\n",
    "def penalty(x):\n",
    "    diff = np.sum(x) - 3\n",
    "    return diff ** 2"
   ]
  },
  {
   "cell_type": "code",
   "execution_count": 8,
   "metadata": {},
   "outputs": [
    {
     "name": "stdout",
     "output_type": "stream",
     "text": [
      "[0.99998074 0.99998408 1.00003518] 5.008557044526953e-07\n"
     ]
    }
   ],
   "source": [
    "# Initial guess\n",
    "x0 = [0.8, 1.2, 0.7]\n",
    "\n",
    "solver = mystic.solvers.NelderMeadSimplexSolver(len(x0))\n",
    "solver.SetInitialPoints(x0)\n",
    "solver.SetConstraints(constraint)\n",
    "solver.Solve(rosen)\n",
    "print(solver.bestSolution, solver.bestEnergy)"
   ]
  },
  {
   "cell_type": "code",
   "execution_count": 9,
   "metadata": {},
   "outputs": [
    {
     "name": "stdout",
     "output_type": "stream",
     "text": [
      "[0.99999052 0.9999771  0.99995072] 1.0055719994492852e-08\n"
     ]
    }
   ],
   "source": [
    "# Initial guess\n",
    "x0 = [0.8, 1.2, 0.7]\n",
    "\n",
    "solver = mystic.solvers.NelderMeadSimplexSolver(len(x0))\n",
    "solver.SetInitialPoints(x0)\n",
    "solver.SetPenalty(penalty)\n",
    "solver.Solve(rosen)\n",
    "print(solver.bestSolution, solver.bestEnergy)"
   ]
  },
  {
   "cell_type": "markdown",
   "metadata": {},
   "source": [
    "### Stepmonitor\n",
    "It is also possible to ...\n",
    "- run a solver step by step\n",
    "- track current status of optimizations using a monitor\n",
    "- interrupt a running optimization and restart it"
   ]
  },
  {
   "cell_type": "code",
   "execution_count": 55,
   "metadata": {},
   "outputs": [
    {
     "name": "stdout",
     "output_type": "stream",
     "text": [
      "[0.8 1.2 0.7] 86.19999999999997\n",
      "[0.84 1.2  0.7 ] 79.26873599999999\n",
      "[0.84  1.08  0.735] 32.66013199999988\n",
      "[0.84  1.08  0.735] 32.66013199999988\n",
      "[0.93333333 1.         0.71166667] 9.979290123456694\n",
      "[0.91111111 0.93333333 0.76222222] 2.2632525529644276\n",
      "[0.9362963  0.88888889 0.72592593] 0.44351333121830727\n",
      "[0.9362963  0.88888889 0.72592593] 0.44351333121830727\n",
      "[0.9362963  0.88888889 0.72592593] 0.44351333121830727\n",
      "[0.9362963  0.88888889 0.72592593] 0.44351333121830727\n",
      "[0.95245542 0.84958848 0.74827503] 0.42655220446171604\n",
      "[0.93292638 0.89637174 0.75005544] 0.3683852002012762\n",
      "[0.95801631 0.85901806 0.74044191] 0.3677543272814026\n",
      "[0.94204783 0.87860749 0.73609169] 0.15451074850100927\n",
      "[0.9483928  0.86379379 0.74523569] 0.14842583981647284\n",
      "[0.94120601 0.88175576 0.7453226 ] 0.1226249828196392\n",
      "[0.94120601 0.88175576 0.7453226 ] 0.1226249828196392\n",
      "[0.94222815 0.87347187 0.75301653] 0.04973254607775858\n",
      "[0.94222815 0.87347187 0.75301653] 0.04973254607775858\n",
      "[0.94222815 0.87347187 0.75301653] 0.04973254607775858\n",
      "[0.94222815 0.87347187 0.75301653] 0.04973254607775858\n",
      "[0.94222815 0.87347187 0.75301653] 0.04973254607775858\n",
      "[0.93830913 0.87221393 0.75915003] 0.027133890934879855\n",
      "[0.93830913 0.87221393 0.75915003] 0.027133890934879855\n",
      "[0.93448687 0.87794576 0.77166558] 0.021456375121878854\n",
      "[0.93448687 0.87794576 0.77166558] 0.021456375121878854\n",
      "[0.93448687 0.87794576 0.77166558] 0.021456375121878854\n",
      "[0.93448687 0.87794576 0.77166558] 0.021456375121878854\n",
      "[0.93616564 0.87444127 0.76507482] 0.02024413745850633\n",
      "[0.93616564 0.87444127 0.76507482] 0.02024413745850633\n",
      "[0.93616564 0.87444127 0.76507482] 0.02024413745850633\n",
      "[0.9366065  0.87611764 0.76662433] 0.019581433385269215\n",
      "[0.9366065  0.87611764 0.76662433] 0.019581433385269215\n",
      "[0.9366065  0.87611764 0.76662433] 0.019581433385269215\n",
      "[0.93592076 0.87732859 0.76818848] 0.01957523951259308\n",
      "[0.9359304  0.87692743 0.77030464] 0.01951402090335557\n",
      "[0.93691738 0.87701598 0.76759084] 0.019413493202683513\n",
      "[0.93691738 0.87701598 0.76759084] 0.019413493202683513\n",
      "[0.93658166 0.87734282 0.7709185 ] 0.019210307410707804\n",
      "[0.9370062  0.8780209  0.76921156] 0.01913939809295181\n",
      "[0.93637047 0.8777618  0.77000264] 0.019106850701522557\n",
      "[0.93637047 0.8777618  0.77000264] 0.019106850701522557\n",
      "[0.93658497 0.87770203 0.77074455] 0.019019054919117803\n",
      "[0.93652103 0.87811464 0.77124194] 0.018996859685388588\n",
      "[0.93674918 0.8779402  0.7699373 ] 0.01898956907531587\n",
      "[0.93711424 0.87823326 0.77191852] 0.018821053753609474\n",
      "[0.9372145  0.87888403 0.77160866] 0.018706054608352972\n",
      "[0.9372145  0.87888403 0.77160866] 0.018706054608352972\n",
      "[0.9383613  0.87982726 0.77472028] 0.018328042487910878\n",
      "[0.9383613  0.87982726 0.77472028] 0.018328042487910878\n",
      "[0.9388042  0.88149842 0.77720609] 0.017792430608739095\n",
      "[0.94102674 0.88352546 0.78172165] 0.017568480962817833\n",
      "[0.94102674 0.88352546 0.78172165] 0.017568480962817833\n",
      "[0.94361293 0.88863562 0.79223994] 0.016553514847148777\n",
      "[0.94243469 0.88712699 0.78566215] 0.016343089851495688\n",
      "[0.94591204 0.89136029 0.7958764 ] 0.016059956990122956\n",
      "[0.94990619 0.90007197 0.8103352 ] 0.013005395138704298\n",
      "[0.94990619 0.90007197 0.8103352 ] 0.013005395138704298\n",
      "[0.94990619 0.90007197 0.8103352 ] 0.013005395138704298\n",
      "[0.96045238 0.91963015 0.84096557] 0.011089197680566105\n",
      "[0.96706179 0.93076924 0.86665628] 0.007859096378250805\n",
      "[0.96446566 0.92843936 0.85859741] 0.007849010756640103\n",
      "[0.96446566 0.92843936 0.85859741] 0.007849010756640103\n",
      "[0.98870305 0.9724355  0.94380019] 0.0038217272989185163\n",
      "[0.98870305 0.9724355  0.94380019] 0.0038217272989185163\n",
      "[0.98243406 0.9628663  0.92446754] 0.002920320106502999\n",
      "[0.98243406 0.9628663  0.92446754] 0.002920320106502999\n",
      "[0.98243406 0.9628663  0.92446754] 0.002920320106502999\n",
      "[0.98441146 0.96626086 0.9343127 ] 0.0022107651301477753\n",
      "[0.99567452 0.98781898 0.97388472] 0.0017880833433881831\n",
      "[0.99567452 0.98781898 0.97388472] 0.0017880833433881831\n",
      "[0.99279357 0.98278649 0.9664058 ] 0.001190741340513131\n",
      "[0.99279357 0.98278649 0.9664058 ] 0.001190741340513131\n",
      "[0.99279357 0.98278649 0.9664058 ] 0.001190741340513131\n",
      "[0.98969498 0.97811274 0.95597696] 0.000829564875675104\n",
      "[0.98969498 0.97811274 0.95597696] 0.000829564875675104\n",
      "[0.99820193 0.99413312 0.98930159] 0.0006549351207029405\n",
      "[0.99475523 0.98846945 0.97563341] 0.00048154751079268585\n",
      "[0.99500848 0.98917215 0.97949439] 0.0003244745086825705\n",
      "[1.00228211 1.00307041 1.00697597] 0.0003075208726909909\n",
      "[0.99649528 0.99300823 0.98543425] 0.00010099745036397134\n",
      "[0.99649528 0.99300823 0.98543425] 0.00010099745036397134\n",
      "[0.99649528 0.99300823 0.98543425] 0.00010099745036397134\n",
      "[0.99649528 0.99300823 0.98543425] 0.00010099745036397134\n",
      "[0.99649528 0.99300823 0.98543425] 0.00010099745036397134\n",
      "[1.00128921 1.0023579  1.00424667] 3.4691277079252056e-05\n",
      "[0.99896637 0.99780825 0.99573314] 8.699044943194427e-06\n",
      "[0.99896637 0.99780825 0.99573314] 8.699044943194427e-06\n",
      "[0.99896637 0.99780825 0.99573314] 8.699044943194427e-06\n",
      "[0.99896637 0.99780825 0.99573314] 8.699044943194427e-06\n",
      "[0.99896637 0.99780825 0.99573314] 8.699044943194427e-06\n",
      "[0.99896637 0.99780825 0.99573314] 8.699044943194427e-06\n",
      "[0.99896637 0.99780825 0.99573314] 8.699044943194427e-06\n",
      "[0.99950623 0.99919043 0.9985136 ] 5.802481656933283e-06\n",
      "[0.99977164 0.99969865 0.99929075] 3.6929449129415793e-06\n",
      "[1.00056031 1.00116804 1.00232583] 1.913584776220782e-06\n",
      "[0.99945621 0.99891365 0.99788827] 1.8334953130178196e-06\n",
      "[0.99945621 0.99891365 0.99788827] 1.8334953130178196e-06\n",
      "[0.99945621 0.99891365 0.99788827] 1.8334953130178196e-06\n",
      "[1.00025809 1.00047816 1.0008843 ] 9.623117611389416e-07\n",
      "[0.9999001  0.99988098 0.99973778] 7.348341660129e-07\n",
      "[1.00021589 1.00046281 1.00091464] 3.6938783467995446e-07\n",
      "[0.99979045 0.99959381 0.99920025] 2.409566717125355e-07\n",
      "[1.00011345 1.00022868 1.00041759] 2.2403144459223744e-07\n",
      "[1.00010985 1.00020217 1.00039735] 8.863529981784412e-08\n",
      "[1.00010985 1.00020217 1.00039735] 8.863529981784412e-08\n",
      "[0.9999156 0.9998322 0.999661 ] 3.655883967531226e-08\n",
      "[0.9999156 0.9998322 0.999661 ] 3.655883967531226e-08\n",
      "[0.9999156 0.9998322 0.999661 ] 3.655883967531226e-08\n",
      "[1.00004172 1.00007206 1.00013424] 2.967747032445689e-08\n",
      "[1.00000846 1.00001084 1.00000579] 2.9142952559857686e-08\n",
      "[1.00001613 1.00003329 1.00005855] 7.91197379345186e-09\n",
      "[1.00001613 1.00003329 1.00005855] 7.91197379345186e-09\n",
      "[1.00001613 1.00003329 1.00005855] 7.91197379345186e-09\n",
      "[1.00001613 1.00003329 1.00005855] 7.91197379345186e-09\n",
      "[1.00000328 1.00000565 1.00001091] 1.400759544790854e-10\n",
      "[1.00000328 1.00000565 1.00001091] 1.400759544790854e-10\n",
      "[1.00000328 1.00000565 1.00001091] 1.400759544790854e-10\n",
      "[1.00000328 1.00000565 1.00001091] 1.400759544790854e-10\n",
      "[1.00000328 1.00000565 1.00001091] 1.400759544790854e-10\n",
      "[1.00000328 1.00000565 1.00001091] 1.400759544790854e-10\n"
     ]
    }
   ],
   "source": [
    "# - run a solver step by step\n",
    "solver = mystic.solvers.NelderMeadSimplexSolver(len(x0))\n",
    "solver.SetInitialPoints(x0)\n",
    "\n",
    "while not solver.Terminated():\n",
    "    solver.Step(rosen)\n",
    "    print(solver.bestSolution, solver.bestEnergy)"
   ]
  },
  {
   "cell_type": "code",
   "execution_count": 56,
   "metadata": {},
   "outputs": [
    {
     "name": "stdout",
     "output_type": "stream",
     "text": [
      "[1.00000328 1.00000565 1.00001091] 1.400759544790854e-10\n"
     ]
    }
   ],
   "source": [
    "# - track current status of optimizations using a monitor\n",
    "\n",
    "stepmon = Monitor()\n",
    "evalmon = Monitor()\n",
    "\n",
    "solver = mystic.solvers.NelderMeadSimplexSolver(len(x0))\n",
    "solver.SetInitialPoints(x0)\n",
    "\n",
    "solver.SetEvaluationMonitor(evalmon)\n",
    "solver.SetGenerationMonitor(stepmon)\n",
    "\n",
    "solver.Solve(rosen)\n",
    "print(solver.bestSolution, solver.bestEnergy)\n",
    "\n"
   ]
  },
  {
   "cell_type": "code",
   "execution_count": 60,
   "metadata": {},
   "outputs": [
    {
     "data": {
      "text/plain": [
       "[<matplotlib.lines.Line2D at 0x7f0fe6f4f8d0>]"
      ]
     },
     "execution_count": 60,
     "metadata": {},
     "output_type": "execute_result"
    },
    {
     "data": {
      "image/png": "[encoded data removed]",
      "text/plain": [
       "<Figure size 432x288 with 1 Axes>"
      ]
     },
     "metadata": {},
     "output_type": "display_data"
    }
   ],
   "source": [
    "# plot the parameter trajectories\n",
    "plt.plot([i[0] for i in stepmon.x])\n",
    "plt.plot([i[1] for i in stepmon.x])\n",
    "plt.plot([i[2] for i in stepmon.x])"
   ]
  },
  {
   "cell_type": "code",
   "execution_count": 61,
   "metadata": {},
   "outputs": [
    {
     "data": {
      "text/plain": [
       "[<matplotlib.lines.Line2D at 0x7f0fe6eabb00>]"
      ]
     },
     "execution_count": 61,
     "metadata": {},
     "output_type": "execute_result"
    },
    {
     "data": {
      "image/png": "[encoded data removed]",
      "text/plain": [
       "<Figure size 432x288 with 1 Axes>"
      ]
     },
     "metadata": {},
     "output_type": "display_data"
    }
   ],
   "source": [
    "plt.plot(stepmon.y)"
   ]
  },
  {
   "cell_type": "code",
   "execution_count": 63,
   "metadata": {},
   "outputs": [
    {
     "name": "stdout",
     "output_type": "stream",
     "text": [
      "NOTE: while solver is running, press 'Ctrl-C' in console window\n",
      "Press any key to continue and press enter\n"
     ]
    },
    {
     "name": "stdin",
     "output_type": "stream",
     "text": [
      " \n"
     ]
    },
    {
     "data": {
      "image/png": "[encoded data removed]",
      "text/plain": [
       "<Figure size 432x288 with 1 Axes>"
      ]
     },
     "metadata": {},
     "output_type": "display_data"
    },
    {
     "data": {
      "image/png": "[encoded data removed]",
      "text/plain": [
       "<Figure size 432x288 with 1 Axes>"
      ]
     },
     "metadata": {},
     "output_type": "display_data"
    },
    {
     "data": {
      "image/png": "[encoded data removed]",
      "text/plain": [
       "<Figure size 432x288 with 1 Axes>"
      ]
     },
     "metadata": {},
     "output_type": "display_data"
    },
    {
     "name": "stdout",
     "output_type": "stream",
     "text": [
      "Traceback(filename='/home/christian/miniconda3/lib/python3.6/site-packages/numpy/core/_methods.py', lineno=34, function='_sum', code_context=['def _sum(a, axis=None, dtype=None, out=None, keepdims=False,\\n'], index=0)\n",
      "[]\n"
     ]
    },
    {
     "name": "stdin",
     "output_type": "stream",
     "text": [
      "\n",
      " \n",
      " Enter sense switch.\n",
      "\n",
      "    sol:  Print current best solution.\n",
      "    cont: Continue calculation.\n",
      "    call: Executes sigint_callback [None].\n",
      "    exit: Exits with current best solution.\n",
      "\n",
      " >>>  sol\n"
     ]
    },
    {
     "name": "stdout",
     "output_type": "stream",
     "text": [
      "[0.94222815 0.87347187 0.75301653]\n"
     ]
    },
    {
     "name": "stdin",
     "output_type": "stream",
     "text": [
      "\n",
      " \n",
      " Enter sense switch.\n",
      "\n",
      "    sol:  Print current best solution.\n",
      "    cont: Continue calculation.\n",
      "    call: Executes sigint_callback [None].\n",
      "    exit: Exits with current best solution.\n",
      "\n",
      " >>>  exit\n"
     ]
    },
    {
     "data": {
      "image/png": "[encoded data removed]",
      "text/plain": [
       "<Figure size 432x288 with 1 Axes>"
      ]
     },
     "metadata": {},
     "output_type": "display_data"
    },
    {
     "name": "stdout",
     "output_type": "stream",
     "text": [
      "Warning: Optimization terminated with signal interrupt.\n",
      "[0.94222815 0.87347187 0.75301653]\n",
      "Press any key to continue and press enter\n"
     ]
    },
    {
     "name": "stdin",
     "output_type": "stream",
     "text": [
      " \n"
     ]
    },
    {
     "data": {
      "text/plain": [
       "''"
      ]
     },
     "execution_count": 63,
     "metadata": {},
     "output_type": "execute_result"
    }
   ],
   "source": [
    "# - track current status of optimizations using a monitor\n",
    "# - interrupt a running optimization and restart itfrom mystic.monitors import VerboseMonitor, Monitor\n",
    "\n",
    "# Nelder-Mead solver\n",
    "from mystic.solvers import fmin\n",
    "\n",
    "# Rosenbrock function\n",
    "from mystic.models import rosen\n",
    "\n",
    "# tools\n",
    "from mystic.tools import getch\n",
    "import matplotlib.pyplot as plt\n",
    "plt.ion()\n",
    "\n",
    "# draw the plot\n",
    "def plot_frame():\n",
    "    plt.title(\"Rosenbrock parameter convergence\")\n",
    "    plt.xlabel(\"Nelder-Mead solver iterations\")\n",
    "    plt.ylabel(\"parameter value\")\n",
    "    plt.draw()\n",
    "    plt.pause(0.001)\n",
    "    return\n",
    " \n",
    "iter = 0\n",
    "step, xval, yval, zval = [], [], [], []\n",
    "# plot the parameter trajectories\n",
    "def plot_params(params):\n",
    "    global iter, step, xval, yval, zval\n",
    "    if iter % 10 == 0:\n",
    "        step.append(iter)\n",
    "        xval.append(params[0])\n",
    "        yval.append(params[1])\n",
    "        zval.append(params[2])\n",
    "        plt.plot(step,xval,'b-')\n",
    "        plt.plot(step,yval,'g-')\n",
    "        plt.plot(step,zval,'r-')\n",
    "        plt.legend([\"x\", \"y\", \"z\"])\n",
    "        plt.draw()\n",
    "    plt.pause(0.1)\n",
    "    iter += 1\n",
    "    return\n",
    "\n",
    "\n",
    "# initial guess\n",
    "x0 = [0.8, 1.2, 0.7]\n",
    "\n",
    "# suggest that the user interacts with the solver\n",
    "print(\"NOTE: while solver is running, press 'Ctrl-C' in console window\")\n",
    "getch()\n",
    "plot_frame()\n",
    "\n",
    "# use Nelder-Mead to minimize the Rosenbrock function\n",
    "solution = fmin(rosen, x0, disp=1, callback=plot_params, handler=True)\n",
    "print(solution)\n",
    "\n",
    "# don't exit until user is ready\n",
    "getch()\n",
    "\n"
   ]
  },
  {
   "cell_type": "markdown",
   "metadata": {},
   "source": [
    "### Available Solvers"
   ]
  },
  {
   "cell_type": "markdown",
   "metadata": {},
   "source": [
    "** Local-Search Optimizers **\n",
    "- NelderMeadSimplexSolver      -- Nelder-Mead Simplex algorithm\n",
    "- PowellDirectionalSolver      -- Powell's (modified) Level Set algorithm\n",
    "\n",
    "** Pseudo-Global Optimizers **\n",
    "- SparsitySolver               -- N Solvers sampled where point desity is low\n",
    "- BuckshotSolver               -- Uniform Random Distribution of N Solvers\n",
    "- LatticeSolver                -- Distribution of N Solvers on a Regular Grid\n",
    "\n",
    "** Global Optimizers **\n",
    "\n",
    "- DifferentialEvolutionSolver  -- Differential Evolution algorithm\n",
    "- DifferentialEvolutionSolver2 -- Price & Storn's Differential Evolution\n"
   ]
  },
  {
   "cell_type": "code",
   "execution_count": null,
   "metadata": {},
   "outputs": [],
   "source": []
  },
  {
   "cell_type": "markdown",
   "metadata": {},
   "source": [
    "### My Project"
   ]
  },
  {
   "cell_type": "markdown",
   "metadata": {},
   "source": [
    "- Estimate:\n",
    "    - Ambiguity attitudes ($\\tau$, $\\sigma$)\n",
    "    - Ambiguity neutral probabilites ($\\pi_1$, $\\pi_2$)\n",
    "    - Trembling hand error ($\\omega$)\n",
    "- Using binary choice data between bets on the stock market (uncertainty) and lottery choices (risk)\n",
    "- Model:         $$L(c_{E_1, p}^\\text{AEX} |\\pi_1, \\pi_2, \\sigma, \\tau, \\omega) =   \\frac{\\omega}{2} + (1 - \\omega) 1_{\\{\\tau + \\sigma \\pi_1 > p\\}}$$\n"
   ]
  },
  {
   "cell_type": "code",
   "execution_count": 1,
   "metadata": {},
   "outputs": [],
   "source": [
    "import sys\n",
    "sys.path.append(\"../ambig-beliefs\")\n",
    "from src.model_code.agent import (\n",
    "    Agent, calc_decision_weight, likeli_one_choice, \n",
    "    penalty_one_choice, penalty_one_choice_parabola, choice_without_trembling\n",
    ")\n",
    "from src.analysis.main import ModelWithLikelihood\n"
   ]
  },
  {
   "cell_type": "code",
   "execution_count": 24,
   "metadata": {},
   "outputs": [],
   "source": [
    "model = ModelWithLikelihood('omega_without_e0', 'opt_diff_evolution', use_sim_data=False)\n",
    "agent = model.agents[800015]"
   ]
  },
  {
   "cell_type": "code",
   "execution_count": 25,
   "metadata": {},
   "outputs": [
    {
     "data": {
      "text/plain": [
       "[<matplotlib.lines.Line2D at 0x7f57a29dbf98>]"
      ]
     },
     "execution_count": 25,
     "metadata": {},
     "output_type": "execute_result"
    },
    {
     "data": {
      "image/png": "[encoded data removed]",
      "text/plain": [
       "<Figure size 432x288 with 1 Axes>"
      ]
     },
     "metadata": {},
     "output_type": "display_data"
    }
   ],
   "source": [
    "#pi_1\n",
    "x = np.linspace(0, 1, 1000)\n",
    "y = [agent.eval_likelihood({'pi_1':i, 'pi_2':0.6, 'tau':0.1, 'sigma':0.6, 'omega':0.2, 'theta':0}) for i in x]\n",
    "plt.plot(x, y)"
   ]
  },
  {
   "cell_type": "code",
   "execution_count": 26,
   "metadata": {},
   "outputs": [
    {
     "data": {
      "text/plain": [
       "[<matplotlib.lines.Line2D at 0x7f57a2a25438>]"
      ]
     },
     "execution_count": 26,
     "metadata": {},
     "output_type": "execute_result"
    },
    {
     "data": {
      "image/png": "[encoded data removed]",
      "text/plain": [
       "<Figure size 432x288 with 1 Axes>"
      ]
     },
     "metadata": {},
     "output_type": "display_data"
    }
   ],
   "source": [
    "#tau\n",
    "x = np.linspace(-0.5, 0.5, 1000)\n",
    "y = [agent.eval_likelihood({'pi_1':0.1, 'pi_2':0.6, 'tau':i, 'sigma':0.6, 'omega':0.2, 'theta':0}) for i in x]\n",
    "plt.plot(x, y)"
   ]
  },
  {
   "cell_type": "code",
   "execution_count": 27,
   "metadata": {},
   "outputs": [
    {
     "data": {
      "text/plain": [
       "[<matplotlib.lines.Line2D at 0x7f57a28ef4a8>]"
      ]
     },
     "execution_count": 27,
     "metadata": {},
     "output_type": "execute_result"
    },
    {
     "data": {
      "image/png": "[encoded data removed]",
      "text/plain": [
       "<Figure size 432x288 with 1 Axes>"
      ]
     },
     "metadata": {},
     "output_type": "display_data"
    }
   ],
   "source": [
    "#sigma\n",
    "x = np.linspace(-0.5, 2, 1000)\n",
    "y = [agent.eval_likelihood({'pi_1':0.1, 'pi_2':0.6, 'tau':0.1, 'sigma':i, 'omega':0.2, 'theta':0}) for i in x]\n",
    "plt.plot(x, y)"
   ]
  },
  {
   "cell_type": "code",
   "execution_count": 28,
   "metadata": {},
   "outputs": [
    {
     "data": {
      "text/plain": [
       "[<matplotlib.lines.Line2D at 0x7f57a294a128>]"
      ]
     },
     "execution_count": 28,
     "metadata": {},
     "output_type": "execute_result"
    },
    {
     "data": {
      "image/png": "[encoded data removed]",
      "text/plain": [
       "<Figure size 432x288 with 1 Axes>"
      ]
     },
     "metadata": {},
     "output_type": "display_data"
    }
   ],
   "source": [
    "#omega\n",
    "x = np.linspace(0, 1, 1000)\n",
    "y = [agent.eval_likelihood({'pi_1':0.1, 'pi_2':0.6, 'tau':0.1, 'sigma':0.6, 'omega':i, 'theta':0}) for i in x]\n",
    "plt.plot(x, y)"
   ]
  },
  {
   "cell_type": "code",
   "execution_count": null,
   "metadata": {},
   "outputs": [],
   "source": []
  }
 ],
 "metadata": {
  "kernelspec": {
   "display_name": "Python 3",
   "language": "python",
   "name": "python3"
  },
  "language_info": {
   "codemirror_mode": {
    "name": "ipython",
    "version": 3
   },
   "file_extension": ".py",
   "mimetype": "text/x-python",
   "name": "python",
   "nbconvert_exporter": "python",
   "pygments_lexer": "ipython3",
   "version": "3.6.8"
  }
 },
 "nbformat": 4,
 "nbformat_minor": 2
}
